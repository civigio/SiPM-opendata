{
 "cells": [
  {
   "cell_type": "code",
   "outputs": [],
   "source": [
    "import numpy as np"
   ],
   "metadata": {
    "collapsed": false,
    "ExecuteTime": {
     "end_time": "2025-01-24T11:13:49.616016Z",
     "start_time": "2025-01-24T11:13:49.599304Z"
    }
   },
   "execution_count": 27
  },
  {
   "cell_type": "code",
   "outputs": [],
   "source": [
    "LY_exp_CSI = 52000\n",
    "LY_exp_BGO = 8200\n",
    "LY_exp_LYSO = 27000\n",
    "\n",
    "C = 1280e-12 + 20e-12 + 101e-12 # F (SiPM + oscilloscopio + cavi)\n",
    "fill_factor = 0.74\n",
    "e = 1.6e-19 #C\n",
    "k = 1 #fattore geometrico, SIPM e cristalli hanno la stessa dimensione sulla faccia di accoppiamento\n",
    "G = 1.7e6 # a tensione operativa di 54.51V\n",
    "\n",
    "def LY_cobaltum_peak(C, V0, PDE, G, k):\n",
    "    return (C*V0*k)/(e*G*PDE*fill_factor)\n",
    "\n",
    "def LY(C, V0, PDE, G, k):\n",
    "    return ((C*V0*k)/(e*G*PDE*fill_factor))*1/122.1e-3 \n",
    "    # photons/MeV; 122.1 KeV è l'energia del picco del Cobalto-57 sul quale viene fatta la misurazione del valore di V0\n",
    "\n",
    "#JAX error propagation of the two functions knowing thet the only parameters with error are V0 and PDE\n",
    "def LY_error(C, V0, V0_err, PDE, PDE_err, G, k):\n",
    "    return ((C*V0*k)/(e*G*PDE*fill_factor))*(1/122.1e-3)*np.sqrt((V0_err/V0)**2 + (PDE_err/PDE)**2)"
   ],
   "metadata": {
    "collapsed": false,
    "ExecuteTime": {
     "end_time": "2025-01-24T11:13:49.629729Z",
     "start_time": "2025-01-24T11:13:49.620815Z"
    }
   },
   "execution_count": 28
  },
  {
   "cell_type": "code",
   "outputs": [],
   "source": [
    "V0_CSI = 170e-3 #V\n",
    "V0_CSI_err = 10e-3 #V\n",
    "PDE_CSI = 0.33 # considerando emissione del CsI a 560nm\n",
    "PDE_CSI_err = 0.05\n",
    "PDE_CSI_corr = 0.19 # considerando emissione del CsI a 560nm\n",
    "PDE_CSI_corr_err = 0.05"
   ],
   "metadata": {
    "collapsed": false,
    "ExecuteTime": {
     "end_time": "2025-01-24T11:13:49.643454Z",
     "start_time": "2025-01-24T11:13:49.632272Z"
    }
   },
   "execution_count": 29
  },
  {
   "cell_type": "code",
   "outputs": [],
   "source": [
    "V0_BGO = 30.4e-3 #V\n",
    "V0_BGO_err = 5e-3 #V\n",
    "PDE_BGO = 0.39 # considerando emissione del BGO a 480nm\n",
    "PDE_BGO_err = 0.05\n",
    "PDE_BGO_corr = 0.23 # considerando emissione del BGO a 480nm\n",
    "PDE_BGO_corr_err = 0.05"
   ],
   "metadata": {
    "collapsed": false,
    "ExecuteTime": {
     "end_time": "2025-01-24T11:13:49.652724Z",
     "start_time": "2025-01-24T11:13:49.644656Z"
    }
   },
   "execution_count": 30
  },
  {
   "cell_type": "code",
   "outputs": [],
   "source": [
    "V0_LYSO = 120e-3 #V\n",
    "V0_LYSO_err = 10.0e-3 #V\n",
    "PDE_LYSO = 0.37 # considerando emissione del LYSO a 420nm\n",
    "PDE_LYSO_err = 0.05\n",
    "PDE_LYSO_corr = 0.22 # considerando emissione del LYSO a 420nm\n",
    "PDE_LYSO_corr_err = 0.05"
   ],
   "metadata": {
    "collapsed": false,
    "ExecuteTime": {
     "end_time": "2025-01-24T11:13:49.663011Z",
     "start_time": "2025-01-24T11:13:49.653894Z"
    }
   },
   "execution_count": 31
  },
  {
   "cell_type": "code",
   "outputs": [],
   "source": [
    "LY_CSI = LY(C, V0_CSI, PDE_CSI, G, k)\n",
    "LY_CSI_err = LY_error(C, V0_CSI, V0_CSI_err, PDE_CSI, PDE_CSI_err, G, k)\n",
    "LY_BGO = LY(C, V0_BGO, PDE_BGO, G, k)\n",
    "LY_BGO_err = LY_error(C, V0_BGO, V0_BGO_err, PDE_BGO, PDE_BGO_err, G, k)\n",
    "LY_LYSO = LY(C, V0_LYSO, PDE_LYSO, G, k)\n",
    "LY_LYSO_err = LY_error(C, V0_LYSO, V0_LYSO_err, PDE_LYSO, PDE_LYSO_err, G, k)"
   ],
   "metadata": {
    "collapsed": false,
    "ExecuteTime": {
     "end_time": "2025-01-24T11:13:49.674947Z",
     "start_time": "2025-01-24T11:13:49.665715Z"
    }
   },
   "execution_count": 32
  },
  {
   "cell_type": "code",
   "outputs": [],
   "source": [
    "LY_CSI_corr = LY(C, V0_CSI, PDE_CSI_corr, G, k)\n",
    "LY_CSI_corr_err = LY_error(C, V0_CSI, V0_CSI_err, PDE_CSI_corr, PDE_CSI_corr_err, G, k)\n",
    "LY_BGO_corr = LY(C, V0_BGO, PDE_BGO_corr, G, k)\n",
    "LY_BGO_corr_err = LY_error(C, V0_BGO, V0_BGO_err, PDE_BGO_corr, PDE_BGO_corr_err, G, k)\n",
    "LY_LYSO_corr = LY(C, V0_LYSO, PDE_LYSO_corr, G, k)\n",
    "LY_LYSO_corr_err = LY_error(C, V0_LYSO, V0_LYSO_err, PDE_LYSO_corr, PDE_LYSO_corr_err, G, k)"
   ],
   "metadata": {
    "collapsed": false,
    "ExecuteTime": {
     "end_time": "2025-01-24T11:13:49.688535Z",
     "start_time": "2025-01-24T11:13:49.676765Z"
    }
   },
   "execution_count": 33
  },
  {
   "cell_type": "code",
   "outputs": [],
   "source": [
    "CSI_BGO = LY_CSI/LY_BGO\n",
    "CSI_BGO_err = np.sqrt((LY_CSI_err/LY_BGO)**2 + (LY_CSI*LY_BGO_err/LY_BGO**2)**2)\n",
    "\n",
    "CSI_LYSO = LY_CSI/LY_LYSO\n",
    "CSI_LYSO_err = np.sqrt((LY_CSI_err/LY_LYSO)**2 + (LY_CSI*LY_LYSO_err/LY_LYSO**2)**2)\n",
    "\n",
    "BGO_LYSO = LY_BGO/LY_LYSO\n",
    "BGO_LYSO_err = np.sqrt((LY_BGO_err/LY_LYSO)**2 + (LY_BGO*LY_LYSO_err/LY_LYSO**2)**2)"
   ],
   "metadata": {
    "collapsed": false,
    "ExecuteTime": {
     "end_time": "2025-01-24T11:13:49.699645Z",
     "start_time": "2025-01-24T11:13:49.690010Z"
    }
   },
   "execution_count": 34
  },
  {
   "cell_type": "code",
   "outputs": [],
   "source": [
    "CSI_BGO_corr = LY_CSI_corr/LY_BGO_corr\n",
    "CSI_BGO_corr_err = np.sqrt((LY_CSI_corr_err/LY_BGO_corr)**2 + (LY_CSI_corr*LY_BGO_corr_err/LY_BGO_corr**2)**2)\n",
    "\n",
    "CSI_LYSO_corr = LY_CSI_corr/LY_LYSO_corr\n",
    "CSI_LYSO_corr_err = np.sqrt((LY_CSI_corr_err/LY_LYSO_corr)**2 + (LY_CSI_corr*LY_LYSO_corr_err/LY_LYSO_corr**2)**2)\n",
    "\n",
    "BGO_LYSO_corr = LY_BGO_corr/LY_LYSO_corr\n",
    "BGO_LYSO_corr_err = np.sqrt((LY_BGO_corr_err/LY_LYSO_corr)**2 + (LY_BGO_corr*LY_LYSO_corr_err/LY_LYSO_corr**2)**2)"
   ],
   "metadata": {
    "collapsed": false,
    "ExecuteTime": {
     "end_time": "2025-01-24T11:13:49.708612Z",
     "start_time": "2025-01-24T11:13:49.700815Z"
    }
   },
   "execution_count": 35
  },
  {
   "cell_type": "code",
   "outputs": [],
   "source": [
    "CSI_position = 14095.27\n",
    "CSI_position_err = 130.74\n",
    "BGO_position = 2388.55\n",
    "BGO_position_err = 114.10\n",
    "LYSO_position = 7367.29\n",
    "LYSO_position_err = 69.51\n",
    "\n",
    "CSI_BGO_spectrum = CSI_position / BGO_position\n",
    "CSI_BGO_spectrum_err = np.sqrt((CSI_position_err/BGO_position)**2 + (CSI_position*BGO_position_err/BGO_position**2)**2)\n",
    "CSI_LYSO_spectrum = CSI_position / LYSO_position\n",
    "CSI_LYSO_spectrum_err = np.sqrt((CSI_position_err/LYSO_position)**2 + (CSI_position*LYSO_position_err/LYSO_position**2)**2)\n",
    "BGO_LYSO_spectrum = BGO_position / LYSO_position\n",
    "BGO_LYSO_spectrum_err = np.sqrt((BGO_position_err/LYSO_position)**2 + (BGO_position*LYSO_position_err/LYSO_position**2)**2)"
   ],
   "metadata": {
    "collapsed": false,
    "ExecuteTime": {
     "end_time": "2025-01-24T11:13:49.719917Z",
     "start_time": "2025-01-24T11:13:49.709828Z"
    }
   },
   "execution_count": 36
  },
  {
   "cell_type": "markdown",
   "source": [
    "Si espongono ora i risultati ottenuti."
   ],
   "metadata": {
    "collapsed": false
   }
  },
  {
   "cell_type": "code",
   "outputs": [
    {
     "name": "stdout",
     "output_type": "stream",
     "text": [
      "LY_CSI = 2.94e+04 ± 4.77e+03 photons/MeV\n",
      "LY_BGO = 4.44e+03 ± 9.27e+02 photons/MeV\n",
      "LY_LYSO = 1.85e+04 ± 2.94e+03 photons/MeV\n",
      "LY_CSI_corr = 5.10e+04 ± 1.38e+04 photons/MeV\n",
      "LY_BGO_corr = 7.53e+03 ± 2.05e+03 photons/MeV\n",
      "LY_LYSO_corr = 3.11e+04 ± 7.53e+03 photons/MeV\n",
      "CSI_BGO = 6.61 ± 1.75\n",
      "CSI_LYSO = 1.59 ± 0.36\n",
      "BGO_LYSO = 0.24 ± 0.06\n",
      "CSI_BGO_corr = 6.77 ± 2.60\n",
      "CSI_LYSO_corr = 1.64 ± 0.59\n",
      "BGO_LYSO_corr = 0.24 ± 0.09\n"
     ]
    }
   ],
   "source": [
    "print(f\"LY_CSI = {LY_CSI:.2e} ± {LY_CSI_err:.2e} photons/MeV\")\n",
    "print(f\"LY_BGO = {LY_BGO:.2e} ± {LY_BGO_err:.2e} photons/MeV\")\n",
    "print(f\"LY_LYSO = {LY_LYSO:.2e} ± {LY_LYSO_err:.2e} photons/MeV\")\n",
    "\n",
    "print(f\"LY_CSI_corr = {LY_CSI_corr:.2e} ± {LY_CSI_corr_err:.2e} photons/MeV\")\n",
    "print(f\"LY_BGO_corr = {LY_BGO_corr:.2e} ± {LY_BGO_corr_err:.2e} photons/MeV\")\n",
    "print(f\"LY_LYSO_corr = {LY_LYSO_corr:.2e} ± {LY_LYSO_corr_err:.2e} photons/MeV\")\n",
    "\n",
    "print(f\"CSI_BGO = {CSI_BGO:.2f} ± {CSI_BGO_err:.2f}\")\n",
    "print(f\"CSI_LYSO = {CSI_LYSO:.2f} ± {CSI_LYSO_err:.2f}\")\n",
    "print(f\"BGO_LYSO = {BGO_LYSO:.2f} ± {BGO_LYSO_err:.2f}\")\n",
    "\n",
    "print(f\"CSI_BGO_corr = {CSI_BGO_corr:.2f} ± {CSI_BGO_corr_err:.2f}\")\n",
    "print(f\"CSI_LYSO_corr = {CSI_LYSO_corr:.2f} ± {CSI_LYSO_corr_err:.2f}\")\n",
    "print(f\"BGO_LYSO_corr = {BGO_LYSO_corr:.2f} ± {BGO_LYSO_corr_err:.2f}\")"
   ],
   "metadata": {
    "collapsed": false,
    "ExecuteTime": {
     "end_time": "2025-01-24T11:13:49.732962Z",
     "start_time": "2025-01-24T11:13:49.721013Z"
    }
   },
   "execution_count": 37
  },
  {
   "cell_type": "markdown",
   "source": [
    "VALORI ASSOLUTI"
   ],
   "metadata": {
    "collapsed": false
   }
  },
  {
   "cell_type": "code",
   "outputs": [
    {
     "name": "stdout",
     "output_type": "stream",
     "text": [
      "LY_exp_CSI = 5.20e+04 photons/MeV\n",
      "LY_CSI = 2.94e+04 ± 4.77e+03 photons/MeV\n",
      "LY_CSI_corr = 5.10e+04 ± 1.38e+04 photons/MeV\n",
      "LY_exp_BGO = 8.20e+03 photons/MeV\n",
      "LY_BGO = 4.44e+03 ± 9.27e+02 photons/MeV\n",
      "LY_BGO_corr = 7.53e+03 ± 2.05e+03 photons/MeV\n",
      "LY_exp_LYSO = 2.70e+04 photons/MeV\n",
      "LY_LYSO = 1.85e+04 ± 2.94e+03 photons/MeV\n",
      "LY_LYSO_corr = 3.11e+04 ± 7.53e+03 photons/MeV\n"
     ]
    }
   ],
   "source": [
    "print(f\"LY_exp_CSI = {LY_exp_CSI:.2e} photons/MeV\")\n",
    "print(f\"LY_CSI = {LY_CSI:.2e} ± {LY_CSI_err:.2e} photons/MeV\")\n",
    "print(f\"LY_CSI_corr = {LY_CSI_corr:.2e} ± {LY_CSI_corr_err:.2e} photons/MeV\")\n",
    "\n",
    "print(f\"LY_exp_BGO = {LY_exp_BGO:.2e} photons/MeV\")\n",
    "print(f\"LY_BGO = {LY_BGO:.2e} ± {LY_BGO_err:.2e} photons/MeV\")\n",
    "print(f\"LY_BGO_corr = {LY_BGO_corr:.2e} ± {LY_BGO_corr_err:.2e} photons/MeV\")\n",
    "\n",
    "print(f\"LY_exp_LYSO = {LY_exp_LYSO:.2e} photons/MeV\")\n",
    "print(f\"LY_LYSO = {LY_LYSO:.2e} ± {LY_LYSO_err:.2e} photons/MeV\")\n",
    "print(f\"LY_LYSO_corr = {LY_LYSO_corr:.2e} ± {LY_LYSO_corr_err:.2e} photons/MeV\")"
   ],
   "metadata": {
    "collapsed": false,
    "ExecuteTime": {
     "end_time": "2025-01-24T11:13:49.742443Z",
     "start_time": "2025-01-24T11:13:49.735380Z"
    }
   },
   "execution_count": 38
  },
  {
   "cell_type": "markdown",
   "source": [
    "RAPPORTI"
   ],
   "metadata": {
    "collapsed": false
   }
  },
  {
   "cell_type": "code",
   "outputs": [
    {
     "name": "stdout",
     "output_type": "stream",
     "text": [
      "CSI_BGO_exp = 6.34\n",
      "CSI_BGO_spectrum = 5.901 ± 0.287\n",
      "CSI_BGO = 6.61 ± 1.75\n",
      "CSI_BGO_corr = 6.77 ± 2.60\n",
      "CSI_LYSO_exp = 1.93\n",
      "CSI_LYSO_spectrum = 1.91 ± 0.03\n",
      "CSI_LYSO = 1.59 ± 0.36\n",
      "CSI_LYSO_corr = 1.64 ± 0.59\n",
      "BGO_LYSO_exp = 0.30\n",
      "BGO_LYSO_spectrum = 0.32 ± 0.02\n",
      "BGO_LYSO = 0.24 ± 0.06\n",
      "BGO_LYSO_corr = 0.24 ± 0.09\n"
     ]
    }
   ],
   "source": [
    "print(f\"CSI_BGO_exp = {LY_exp_CSI/LY_exp_BGO:.2f}\")\n",
    "print(f\"CSI_BGO_spectrum = {CSI_BGO_spectrum:.2f} ± {CSI_BGO_spectrum_err:.2f}\")\n",
    "print(f\"CSI_BGO = {CSI_BGO:.2f} ± {CSI_BGO_err:.2f}\")\n",
    "print(f\"CSI_BGO_corr = {CSI_BGO_corr:.2f} ± {CSI_BGO_corr_err:.2f}\")\n",
    "\n",
    "print(f\"CSI_LYSO_exp = {LY_exp_CSI/LY_exp_LYSO:.2f}\")\n",
    "print(f\"CSI_LYSO_spectrum = {CSI_LYSO_spectrum:.2f} ± {CSI_LYSO_spectrum_err:.2f}\")\n",
    "print(f\"CSI_LYSO = {CSI_LYSO:.2f} ± {CSI_LYSO_err:.2f}\")\n",
    "print(f\"CSI_LYSO_corr = {CSI_LYSO_corr:.2f} ± {CSI_LYSO_corr_err:.2f}\")\n",
    "\n",
    "print(f\"BGO_LYSO_exp = {LY_exp_BGO/LY_exp_LYSO:.2f}\")\n",
    "print(f\"BGO_LYSO_spectrum = {BGO_LYSO_spectrum:.2f} ± {BGO_LYSO_spectrum_err:.2f}\")\n",
    "print(f\"BGO_LYSO = {BGO_LYSO:.2f} ± {BGO_LYSO_err:.2f}\")\n",
    "print(f\"BGO_LYSO_corr = {BGO_LYSO_corr:.2f} ± {BGO_LYSO_corr_err:.2f}\")"
   ],
   "metadata": {
    "collapsed": false,
    "ExecuteTime": {
     "end_time": "2025-01-24T11:13:49.754913Z",
     "start_time": "2025-01-24T11:13:49.744250Z"
    }
   },
   "execution_count": 39
  }
 ],
 "metadata": {
  "kernelspec": {
   "display_name": "Python 3",
   "language": "python",
   "name": "python3"
  },
  "language_info": {
   "codemirror_mode": {
    "name": "ipython",
    "version": 3
   },
   "file_extension": ".py",
   "mimetype": "text/x-python",
   "name": "python",
   "nbconvert_exporter": "python",
   "pygments_lexer": "ipython3",
   "version": "3.11.8"
  }
 },
 "nbformat": 4,
 "nbformat_minor": 2
}
